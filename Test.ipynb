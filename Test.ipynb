{
 "cells": [
  {
   "cell_type": "code",
   "execution_count": 6,
   "metadata": {},
   "outputs": [
    {
     "name": "stdout",
     "output_type": "stream",
     "text": [
      "{'date', 'context', 'title'}\n"
     ]
    }
   ],
   "source": [
    "from __future__ import print_function\n",
    "from mailmerge import MailMerge\n",
    "from datetime import datetime\n",
    "import json\n",
    "\n",
    "class JsonDocBuilder:\n",
    "    def __init__(self, template_path, json_path):\n",
    "        self.template_path = template_path\n",
    "        self.json_path = json_path\n",
    "        self.data = self.load_json()\n",
    "        self.document = MailMerge(self.template_path)\n",
    "\n",
    "    def load_json(self):\n",
    "        with open(self.json_path, \"r\") as f:\n",
    "            return json.load(f)\n",
    "\n",
    "    def get_merge_fields(self):\n",
    "        return self.document.get_merge_fields()\n",
    "\n",
    "    def merge_data(self):\n",
    "        merge_data = {\n",
    "            \"date\": '{:%d-%b-%Y}'.format(datetime.now()),\n",
    "            \"title\": self.data.get(\"title\", \"\"),\n",
    "            \"context\": self.data.get(\"context\", \"\")\n",
    "        }\n",
    "        self.document.merge(**merge_data)\n",
    "\n",
    "    def save_document(self, output_path):\n",
    "        self.document.write(output_path)\n",
    "\n",
    "    def process(self, output_path):\n",
    "        print(self.get_merge_fields())\n",
    "        self.merge_data()\n",
    "        self.save_document(output_path)\n",
    "\n",
    "template_path = \"template.docx\"\n",
    "json_path = \"input.json\"\n",
    "output_path = \"template_filled.docx\"\n",
    "\n",
    "document_merger = JsonDocBuilder(template_path, json_path)\n",
    "document_merger.process(output_path)\n"
   ]
  }
 ],
 "metadata": {
  "kernelspec": {
   "display_name": ".venv",
   "language": "python",
   "name": "python3"
  },
  "language_info": {
   "codemirror_mode": {
    "name": "ipython",
    "version": 3
   },
   "file_extension": ".py",
   "mimetype": "text/x-python",
   "name": "python",
   "nbconvert_exporter": "python",
   "pygments_lexer": "ipython3",
   "version": "3.12.3"
  }
 },
 "nbformat": 4,
 "nbformat_minor": 2
}
